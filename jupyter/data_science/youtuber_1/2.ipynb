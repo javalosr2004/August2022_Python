{
 "cells": [
  {
   "cell_type": "code",
   "execution_count": null,
   "metadata": {},
   "outputs": [],
   "source": [
    "import pandas as pd\n",
    "\n",
    "df = pd.read_csv('datasets/avocado.csv')\n",
    "\n",
    "df['Date'] = pd.to_datetime(df['Date']) #making the data inside of Date into a recognizable date time\n",
    "albany_df = df[df['region'] == 'Albany']\n",
    "albany_df.set_index('Date', inplace=True)\n",
    "\n",
    "albany_df['AveragePrice'].plot()"
   ]
  },
  {
   "cell_type": "code",
   "execution_count": null,
   "metadata": {},
   "outputs": [],
   "source": [
    "albany_df['AveragePrice'].rolling(25).mean().plot()"
   ]
  },
  {
   "cell_type": "code",
   "execution_count": null,
   "metadata": {},
   "outputs": [],
   "source": [
    "albany_df.head(25) \n",
    "#the values are being sorted very wierdly, the year is chronological but the dates and months are reverse chronological, we must sort it first\n"
   ]
  },
  {
   "cell_type": "code",
   "execution_count": null,
   "metadata": {},
   "outputs": [],
   "source": [
    "albany_df.sort_index(inplace=True) #we just have to sort the index as we have already set the date as the index"
   ]
  },
  {
   "cell_type": "code",
   "execution_count": null,
   "metadata": {},
   "outputs": [],
   "source": [
    "albany_df['AveragePrice'].rolling(25).mean().plot() #plots the simple moving average given 25 values"
   ]
  },
  {
   "cell_type": "code",
   "execution_count": null,
   "metadata": {},
   "outputs": [],
   "source": [
    "albany_df['simple25ma'] = albany_df['AveragePrice'].rolling(25).mean()"
   ]
  },
  {
   "cell_type": "code",
   "execution_count": null,
   "metadata": {},
   "outputs": [],
   "source": [
    "albany_df.head(3) # the first 25 values will show NaN as the value for simple25ma because it hasn't reached 25 concurrent values yet, so the moving average cannot be determinesd"
   ]
  },
  {
   "cell_type": "code",
   "execution_count": null,
   "metadata": {},
   "outputs": [],
   "source": [
    "albany_df.tail(3)"
   ]
  },
  {
   "cell_type": "code",
   "execution_count": null,
   "metadata": {},
   "outputs": [],
   "source": [
    "#you can drop rows if they have anything that doesn't hold data\n",
    "\n",
    "albany_df.dropna().head(3) #you can even do inplace=True, to replace the previous data table"
   ]
  },
  {
   "cell_type": "code",
   "execution_count": null,
   "metadata": {},
   "outputs": [],
   "source": [
    "#to prevent errors further on\n",
    "\n",
    "albany_df = df.copy()[df['region'] == 'Albany'] #creates a copy of df where the rows are only where the region is equal to Albany\n",
    "albany_df.set_index('Date', inplace=True)\n",
    "albany_df.sort_index(inplace=True)\n"
   ]
  },
  {
   "cell_type": "code",
   "execution_count": null,
   "metadata": {},
   "outputs": [],
   "source": [
    "albany_df['AveragePrice'].rolling(25).mean().plot()"
   ]
  },
  {
   "cell_type": "code",
   "execution_count": null,
   "metadata": {},
   "outputs": [],
   "source": [
    "regions = list(set(df['region'].to_list()))\n",
    "#or\n",
    "\n",
    "regions = df['region'].unique()\n",
    "regions"
   ]
  },
  {
   "cell_type": "code",
   "execution_count": null,
   "metadata": {},
   "outputs": [],
   "source": [
    "graph_df = pd.DataFrame()\n",
    "\n",
    "for region in df['region'].unique():\n",
    "    print(region)\n",
    "    region_df = df.copy(df['region'] == region)\n",
    "    region_df.set_index('Date', inplace=True)\n",
    "    region_df.sort_index(inplace=True)\n",
    "    region_df['simple25ma'] = region_df['AveragePrice'].rolling(25).mean()"
   ]
  },
  {
   "cell_type": "code",
   "execution_count": null,
   "metadata": {},
   "outputs": [],
   "source": []
  },
  {
   "cell_type": "code",
   "execution_count": null,
   "metadata": {},
   "outputs": [],
   "source": []
  },
  {
   "cell_type": "code",
   "execution_count": null,
   "metadata": {},
   "outputs": [],
   "source": []
  }
 ],
 "metadata": {
  "kernelspec": {
   "display_name": "Python 3.10.6 64-bit",
   "language": "python",
   "name": "python3"
  },
  "language_info": {
   "codemirror_mode": {
    "name": "ipython",
    "version": 3
   },
   "file_extension": ".py",
   "mimetype": "text/x-python",
   "name": "python",
   "nbconvert_exporter": "python",
   "pygments_lexer": "ipython3",
   "version": "3.10.6"
  },
  "orig_nbformat": 4,
  "vscode": {
   "interpreter": {
    "hash": "b0fa6594d8f4cbf19f97940f81e996739fb7646882a419484c72d19e05852a7e"
   }
  }
 },
 "nbformat": 4,
 "nbformat_minor": 2
}
